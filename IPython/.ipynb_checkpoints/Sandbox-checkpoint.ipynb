{
 "metadata": {
  "name": "",
  "signature": "sha256:95a615a315de6b9a015bff0c49e39b21910c5a103abcb153be90ddef326cf218"
 },
 "nbformat": 3,
 "nbformat_minor": 0,
 "worksheets": [
  {
   "cells": [
    {
     "cell_type": "code",
     "collapsed": false,
     "input": [],
     "language": "python",
     "metadata": {},
     "outputs": []
    }
   ],
   "metadata": {}
  }
 ]
}