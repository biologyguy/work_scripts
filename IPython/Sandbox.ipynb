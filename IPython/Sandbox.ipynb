{
 "worksheets": [
  {
   "cells": [
    {
     "cell_type": "code",
     "metadata": {},
     "outputs": [],
     "input": [
      "import sys\n",
      "import os\n",
      "import re\n",
      "from random import sample\n",
      "from math import ceil\n",
      "from Bio import SeqIO\n",
      "from Bio.SeqFeature import SeqFeature, FeatureLocation\n",
      "\n"
     ],
     "language": "python",
     "prompt_number": 2
    },
    {
     "cell_type": "code",
     "metadata": {},
     "outputs": [],
     "input": [
      ""
     ],
     "language": "python",
     "prompt_number": 7
    },
    {
     "cell_type": "code",
     "metadata": {},
     "outputs": [],
     "input": [
      ""
     ],
     "language": "python",
     "prompt_number": 1
    },
    {
     "cell_type": "code",
     "metadata": {},
     "outputs": [],
     "input": [
      ""
     ],
     "language": "python",
     "prompt_number": 7
    },
    {
     "cell_type": "code",
     "metadata": {},
     "outputs": [],
     "input": [
      ""
     ],
     "language": "python"
    }
   ]
  }
 ],
 "cells": [],
 "metadata": {
  "name": "",
  "signature": "sha256:543d6de621c11083c2f9790f6aa1db763333b3d6be96375e581411c78c063fa2"
 },
 "nbformat": 3,
 "nbformat_minor": 0
}