{
 "cells": [
  {
   "cell_type": "code",
   "execution_count": 2,
   "metadata": {},
   "outputs": [],
   "source": [
    "import sys\n",
    "import os\n",
    "import re\n",
    "from random import sample\n",
    "from math import ceil\n",
    "from Bio import SeqIO\n",
    "from Bio.SeqFeature import SeqFeature, FeatureLocation"
   ]
  },
  {
   "cell_type": "code",
   "execution_count": 7,
   "metadata": {},
   "outputs": [],
   "source": [
    ""
   ]
  },
  {
   "cell_type": "code",
   "execution_count": 1,
   "metadata": {},
   "outputs": [],
   "source": [
    ""
   ]
  },
  {
   "cell_type": "code",
   "execution_count": 7,
   "metadata": {},
   "outputs": [
    {
     "name": "stdout",
     "output_type": "stream",
     "text": [
      "Clique_ident.ipynb     Sandbox.ipynb          Singlet_folding.ipynb  Untitled0.ipynb        \u001b[36mdata_files\u001b[m\u001b[m/            mcl_mcmcmc.ipynb       reddish_green.png\r\n"
     ]
    }
   ],
   "source": [
    "ls"
   ]
  },
  {
   "cell_type": "code",
   "execution_count": 6,
   "metadata": {},
   "outputs": [],
   "source": [
    "import PIL.Image as Image\n",
    "img = Image.new('RGB', (1000,1000), \"black\")\n",
    "pixels = img.load()\n",
    "start_pix = (255, 0, 0)\n",
    "for i in range(img.size[0]):\n",
    "    start_pix = (0, 255, 0) if start_pix == (255, 0, 0) else (255, 0, 0)\n",
    "    next_pix = (0, 255, 0) if start_pix == (255, 0, 0) else (255, 0, 0) \n",
    "    for j in range(img.size[1]):\n",
    "        pixels[i,j] = next_pix\n",
    "        next_pix = (0, 255, 0) if next_pix == (255, 0, 0) else (255, 0, 0)\n",
    "img.save(\"reddish_green.png\")"
   ]
  }
 ],
 "metadata": {
  "kernelspec": {
   "display_name": "Python 3",
   "language": "python",
   "name": "python3"
  },
  "language_info": {
   "codemirror_mode": {
    "name": "ipython",
    "version": 3.0
   },
   "file_extension": ".py",
   "mimetype": "text/x-python",
   "name": "python",
   "nbconvert_exporter": "python",
   "pygments_lexer": "ipython3",
   "version": "3.5.0"
  }
 },
 "nbformat": 4,
 "nbformat_minor": 0
}