{
 "cells": [
  {
   "cell_type": "code",
   "execution_count": 1,
   "metadata": {
    "collapsed": false
   },
   "outputs": [],
   "source": [
    "%matplotlib inline\n",
    "import matplotlib\n",
    "import matplotlib.pyplot as plt\n",
    "import pandas as pd\n",
    "import MyFuncs\n",
    "import numpy as np\n",
    "import scipy\n",
    "import scipy.stats \n",
    "from copy import copy"
   ]
  },
  {
   "cell_type": "code",
   "execution_count": 2,
   "metadata": {
    "collapsed": false
   },
   "outputs": [],
   "source": [
    "class Clusters:  # The cluster groups should not include anything more than the groups (no names)\n",
    "    def __init__(self, path, group_split=\"\\n\", gene_split=\"\\t\", taxa_split=\"-\", global_taxa_count=None):\n",
    "        with open(path, \"r\") as _ifile:\n",
    "            self.input = _ifile.read()\n",
    "\n",
    "        clusters = self.input.strip().split(group_split)\n",
    "        self.clusters = [Cluster([y for y in x.strip().split(gene_split)], global_taxa_count=global_taxa_count)\n",
    "                         for x in clusters]\n",
    "        self.size = 0.\n",
    "        for group in self.clusters:\n",
    "            self.size += group.len\n",
    "\n",
    "        self.printer = MyFuncs.DynamicPrint()\n",
    "        self.taxa_split = taxa_split\n",
    "\n",
    "    def score_all_clusters(self):\n",
    "        score = 0\n",
    "        taxa = pd.Series()\n",
    "        for cluster in self.clusters:\n",
    "            # Weight each score by cluster size. Final score max = 1.0, min = 0.0\n",
    "            score += cluster.score() * (cluster.len / self.size)\n",
    "            temp_taxa = [x.split(self.taxa_split)[0] for x in cluster.cluster]\n",
    "            temp_taxa = pd.Series(temp_taxa)\n",
    "            taxa = pd.concat([taxa, temp_taxa])\n",
    "\n",
    "        return self.srs(score)\n",
    "\n",
    "    def write(self, outfile):\n",
    "        with open(outfile, \"w\") as _ofile:\n",
    "            for cluster in self.clusters:\n",
    "                _ofile.write(\"%s\\n\" % \"\\t\".join(cluster.cluster))\n",
    "        return\n",
    "\n",
    "    # The following are possible score modifier schemes to account for group size\n",
    "    def gpt(self, score, taxa):  # groups per taxa\n",
    "        genes_per_taxa = self.size / len(taxa.value_counts())\n",
    "        num_clusters_modifier = abs(genes_per_taxa - len(self.clusters))\n",
    "        score = round(score / len(self.clusters) - num_clusters_modifier ** 1.2, 2)\n",
    "        return score\n",
    "\n",
    "    def srs(self, score):  # Square root sequences\n",
    "        # print(len(self.clusters))\n",
    "        modifier = abs(self.size ** 0.5 - len(self.clusters)) ** 1.2\n",
    "        score = round(score / len(self.clusters) - modifier, 2)\n",
    "        return score\n"
   ]
  },
  {
   "cell_type": "code",
   "execution_count": 3,
   "metadata": {
    "collapsed": false
   },
   "outputs": [],
   "source": [
    "\n",
    "class Cluster:\n",
    "    def __init__(self, cluster, taxa_split=\"-\", global_taxa_count=None):\n",
    "        cluster.sort()\n",
    "        self.cluster = cluster\n",
    "        self.len = len(self.cluster)\n",
    "        self.name = \"\"\n",
    "        self.taxa_split = taxa_split\n",
    "        self.global_taxa_count = global_taxa_count\n",
    "\n",
    "    def score(self):\n",
    "        taxa = [x.split(self.taxa_split)[0] for x in self.cluster]\n",
    "        taxa = pd.Series(taxa)\n",
    "\n",
    "        if len(taxa) == 1:\n",
    "            return 0\n",
    "\n",
    "        score = 0\n",
    "        try:\n",
    "            for taxon, num in taxa.value_counts().iteritems():\n",
    "                if num == 1:\n",
    "                    score += self.global_taxa_count[taxon] ** 0.5\n",
    "\n",
    "                else:\n",
    "                    score -= (1 / self.global_taxa_count[taxon] ** 0.5) * num * 2\n",
    "\n",
    "        except TypeError:  # This happens if global_taxa_count is not set\n",
    "            singles = 0\n",
    "            for taxon, num in taxa.value_counts().iteritems():\n",
    "                if num == 1:\n",
    "                    singles += 1\n",
    "\n",
    "                else:\n",
    "                    score -= num\n",
    "\n",
    "            score += singles ** 2\n",
    "\n",
    "        return score\n",
    "\n",
    "    def compare(self, query):\n",
    "        matches = set(self.cluster).intersection(query.cluster)\n",
    "        weighted_match = (len(matches) * 2.) / (self.len + query.len)\n",
    "        print(\"name: %s, matches: %s, weighted_match: %s\" % (self.name, len(matches), weighted_match))\n",
    "        return weighted_match\n",
    "\n",
    "    def __str__(self):\n",
    "        return str(self.cluster)"
   ]
  },
  {
   "cell_type": "code",
   "execution_count": 4,
   "metadata": {
    "collapsed": false
   },
   "outputs": [],
   "source": [
    "def split_all_by_all(data_frame, remove_list):\n",
    "    if len(data_frame.columns) != 3:\n",
    "        raise AttributeError(\"dataframe should be 3 columns\")\n",
    "\n",
    "    data_frame = copy(data_frame)\n",
    "    columns = data_frame.columns\n",
    "    data_frame.columns = [0, 1, 2]\n",
    "\n",
    "    removed = data_frame.loc[data_frame[0].isin(remove_list)]\n",
    "    removed = removed.loc[removed[1].isin(remove_list)]\n",
    "\n",
    "    remaining = data_frame.loc[~data_frame[0].isin(remove_list)]\n",
    "    remaining = remaining.loc[~remaining[1].isin(remove_list)]\n",
    "\n",
    "    remaining.columns = columns\n",
    "    removed.columns = columns\n",
    "    return {\"remaining\": remaining, \"removed\": removed}"
   ]
  },
  {
   "cell_type": "code",
   "execution_count": 5,
   "metadata": {
    "collapsed": false
   },
   "outputs": [],
   "source": [
    "def clique_checker(cluster, df_all_by_all, taxa_split=\"-\"):\n",
    "    valve = MyFuncs.SafetyValve(50)\n",
    "    genes = pd.DataFrame([x.split(taxa_split) for x in cluster.cluster])\n",
    "    genes.columns = [\"taxa\", \"gene\"]\n",
    "    \n",
    "    duplicates = []\n",
    "    in_dict = {}\n",
    "    cliques = []\n",
    "    \n",
    "    # pull out all genes with replicate taxa\n",
    "    for taxa, num in genes['taxa'].value_counts().iteritems():\n",
    "        if num > 1:\n",
    "            taxa = genes.loc[genes[\"taxa\"] == taxa]\n",
    "            for i, rec in taxa.iterrows():\n",
    "                gene = \"%s-%s\" % (rec[\"taxa\"], rec[\"gene\"])\n",
    "                duplicates.append(gene)\n",
    "    \n",
    "    #print(duplicates)\n",
    "    \n",
    "    # Find best hits for all duplicate genes\n",
    "    def get_best_hit(_gene):\n",
    "        _best_hit = df_all_by_all[(df_all_by_all[0] == _gene) | (df_all_by_all[1] == _gene)]\n",
    "        _best_hit.columns = [\"subj\", \"query\", \"score\"]\n",
    "        _best_hit = _best_hit.loc[_best_hit[\"score\"] == max(_best_hit[\"score\"])].values[0]\n",
    "        return _best_hit\n",
    "        \n",
    "    for gene in duplicates:\n",
    "        best_hit = get_best_hit(gene)\n",
    "        in_dict[gene] = (best_hit[0], best_hit[2]) if best_hit[1] == gene else (best_hit[1], best_hit[2])\n",
    "    \n",
    "    # pp.pprint(in_dict)\n",
    "    # Iterate through in_dict and pull in all genes to fill out all best-hit sub-graphs from duplicates    \n",
    "    in_dict_length = len(in_dict)\n",
    "    while True:\n",
    "        copy_in_dict = copy(in_dict)\n",
    "        valve.step()\n",
    "        for indx, value in copy_in_dict.items():\n",
    "            if value[0] not in in_dict:\n",
    "                best_hit = get_best_hit(value[0])\n",
    "                in_dict[value[0]] = (best_hit[0], best_hit[2]) if best_hit[1] == value[0] else (best_hit[1], best_hit[2])\n",
    " \n",
    "        if in_dict_length == len(in_dict):\n",
    "            break\n",
    "        else:\n",
    "            in_dict_length = len(in_dict)\n",
    "    \n",
    "    # Separate all sub-graphs (i.e., cliques) into lists\n",
    "    # pp.pprint(in_dict) \n",
    "    while len(in_dict):\n",
    "        valve.step()\n",
    "        copy_in_dict = copy(in_dict)\n",
    "        for indx, value in copy_in_dict.items():\n",
    "            in_clique = False\n",
    "            \n",
    "            for i, clique in enumerate(cliques):\n",
    "                if indx in clique or value[0] in clique:\n",
    "                    if type(in_clique) != int:\n",
    "                        # print(\"1: %s-%s\" % (indx, value[0]))\n",
    "                        in_clique = i\n",
    "                        cliques[i] = list({indx, value[0]}.union(set(cliques[i])))\n",
    "                        del in_dict[indx]\n",
    "                        # print(cliques)\n",
    "                    \n",
    "                    else:\n",
    "                        # print(\"2: %s-%s\" % (indx, value[0]))\n",
    "                        cliques[in_clique] = list(set(cliques[in_clique]).union(set(cliques[i])))\n",
    "                        del cliques[i]\n",
    "                        # print(cliques)\n",
    "                        break\n",
    "            \n",
    "            if type(in_clique) != int:\n",
    "                # print(\"3: %s-%s\" % (indx, value[0]))\n",
    "                del in_dict[indx]\n",
    "                cliques.append([indx, value[0]])\n",
    "                # print(cliques)\n",
    "    \n",
    "    # strip out any 'cliques' that contain less than 3 genes\n",
    "    while True:\n",
    "        valve.step()\n",
    "        for i, clique in enumerate(cliques):\n",
    "            if len(clique) < 3:\n",
    "                del cliques[i]\n",
    "                break\n",
    "        break\n",
    "    \n",
    "    if not cliques or cliques[0] == \"\":\n",
    "        print(\"No potental cliques detected\")\n",
    "        return\n",
    "    \n",
    "    print(\"Possible cliques\\n%s\" % cliques)\n",
    "    final_cliques = []\n",
    "    fig, ax = plt.subplots(1, len(cliques))\n",
    "    \n",
    "    for i, clique in enumerate(cliques):\n",
    "        total_scores = pd.DataFrame()\n",
    "        if len(clique) < 3:\n",
    "            continue\n",
    "        \n",
    "        for gene in clique:\n",
    "            scores = df_all_by_all[df_all_by_all[0] == gene]\n",
    "            scores = scores[scores[1].isin(cluster.cluster)]\n",
    "            tmp = df_all_by_all[df_all_by_all[1] == gene]\n",
    "            tmp = tmp[tmp[0].isin(cluster.cluster)]\n",
    "            scores = pd.concat([scores, tmp])\n",
    "            total_scores = total_scores.append(scores)\n",
    "        \n",
    "        clique_scores = total_scores[(total_scores[0].isin(clique)) & (total_scores[1].isin(clique))]\n",
    "        total_scores = total_scores.drop(clique_scores.index.values)\n",
    "        total_kde = scipy.stats.gaussian_kde(total_scores[2], bw_method='silverman')\n",
    "        \n",
    "        x_grid = np.linspace(0.0, 1.2, 1000)\n",
    "        \n",
    "        fig.subplots_adjust(wspace=0)\n",
    "        \n",
    "        pdf = total_kde.evaluate(x_grid)\n",
    "        if len(cliques) > 1:\n",
    "            ax[i].plot(x_grid, pdf, color='blue', alpha=0.5, lw=3)\n",
    "\n",
    "            clique_kde = scipy.stats.gaussian_kde(clique_scores[2], bw_method='silverman')\n",
    "            pdf = clique_kde.evaluate(x_grid)\n",
    "            ax[i].plot(x_grid, pdf, color='red', alpha=0.5, lw=3)\n",
    "\n",
    "            ax[i].set_xlim(0.0, 1.2)\n",
    "        else:\n",
    "            ax.plot(x_grid, pdf, color='blue', alpha=0.5, lw=3)\n",
    "\n",
    "            clique_kde = scipy.stats.gaussian_kde(clique_scores[2], bw_method='silverman')\n",
    "            pdf = clique_kde.evaluate(x_grid)\n",
    "            ax.plot(x_grid, pdf, color='red', alpha=0.5, lw=3)\n",
    "\n",
    "            ax.set_xlim(0.0, 1.2)\n",
    "        \n",
    "        total_resample = total_kde.resample(10000)\n",
    "        total95 = [scipy.stats.scoreatpercentile(total_resample, 2.5), scipy.stats.scoreatpercentile(total_resample, 97.5)]\n",
    "        \n",
    "        clique_resample = clique_kde.resample(10000)\n",
    "        clique95 = [scipy.stats.scoreatpercentile(clique_resample, 2.5), scipy.stats.scoreatpercentile(clique_resample, 97.5)]\n",
    "        integrated = total_kde.integrate_box_1d(clique95[0], clique95[1])\n",
    "        \n",
    "        print(\"\")\n",
    "        print(\"total: %s - %s\" % (total95[0], total95[1]))\n",
    "        print(\"clique: %s - %s\" % (clique95[0], clique95[1]))\n",
    "        print(integrated)\n",
    "        \n",
    "        if integrated < 0.05:\n",
    "            final_cliques.append(clique)\n",
    "    \n",
    "    fig.savefig(\"data_files/kde.svg\")\n",
    "    if not final_cliques:\n",
    "        print(\"\\nCliques not significantly supported\")\n",
    "        return\n",
    "    return final_cliques"
   ]
  },
  {
   "cell_type": "code",
   "execution_count": 6,
   "metadata": {
    "collapsed": false
   },
   "outputs": [],
   "source": [
    "scores_data = pd.read_csv(\"data_files/Ctenos_final_scores.csv\", \"\\t\", header=None)\n",
    "scores_data.columns = [0, 1, 2]\n",
    "final_clusters = Clusters(\"data_files/groups.txt\")"
   ]
  },
  {
   "cell_type": "code",
   "execution_count": 7,
   "metadata": {
    "collapsed": false
   },
   "outputs": [
    {
     "name": "stdout",
     "output_type": "stream",
     "text": [
      "Possible cliques\n",
      "[['Cfu-PanxαD', 'Bab-PanxαC', 'Bfr-PanxαB', 'Tin-PanxαF', 'Lcr-PanxαC'], ['Cfu-PanxαF', 'Cfu-PanxαA', 'Cfu-PanxαB', 'Edu-PanxαF']]\n",
      "\n",
      "total: 0.543437374377 - 1.04534410948\n",
      "clique: 0.507632930353 - 1.11268224482\n",
      "0.9884578023\n",
      "\n",
      "total: 0.510484392641 - 0.987294033907\n",
      "clique: 0.471458009078 - 0.99242316925\n",
      "0.972897521798\n",
      "\n",
      "Cliques not significantly supported\n",
      "\n",
      "None\n"
     ]
    },
    {
     "data": {
      "image/png": "[encoded data removed]",
      "text/plain": [
       "<matplotlib.figure.Figure at 0x10feccdd8>"
      ]
     },
     "metadata": {},
     "output_type": "display_data"
    }
   ],
   "source": [
    "print(\"\\n%s\" % clique_checker(final_clusters.clusters[0], scores_data))"
   ]
  },
  {
   "cell_type": "code",
   "execution_count": 8,
   "metadata": {
    "collapsed": false
   },
   "outputs": [
    {
     "name": "stdout",
     "output_type": "stream",
     "text": [
      "Possible cliques\n",
      "[['Bfo-PanxαF', 'Hca-PanxαD', 'Mle-Panxα6'], ['Mle-Panxα12', 'Hca-PanxαH', 'Vpa-PanxαG', 'Bfo-PanxαD', 'Bch-PanxαE', 'Tin-PanxαE', 'Lcr-PanxαJ']]\n",
      "\n",
      "total: 0.671194885842 - 0.709392504343\n",
      "clique: 0.762252897724 - 0.948781503171\n",
      "0.0\n",
      "\n",
      "total: 0.632578123454 - 1.02448870038\n",
      "clique: 0.897625950876 - 0.978578538884\n",
      "0.437149875933\n"
     ]
    },
    {
     "data": {
      "text/plain": [
       "[['Bfo-PanxαF', 'Hca-PanxαD', 'Mle-Panxα6']]"
      ]
     },
     "execution_count": 8,
     "metadata": {},
     "output_type": "execute_result"
    },
    {
     "data": {
      "image/png": "[encoded data removed]",
      "text/plain": [
       "<matplotlib.figure.Figure at 0x1105d3a58>"
      ]
     },
     "metadata": {},
     "output_type": "display_data"
    }
   ],
   "source": [
    "clique_checker(final_clusters.clusters[1], scores_data)"
   ]
  },
  {
   "cell_type": "code",
   "execution_count": 9,
   "metadata": {
    "collapsed": false
   },
   "outputs": [
    {
     "name": "stdout",
     "output_type": "stream",
     "text": [
      "Possible cliques\n",
      "[['Mle-Panxα10', 'Mle-Panxα9', 'Vpa-PanxαB']]\n",
      "\n",
      "total: 0.657460784899 - 1.0166258136\n",
      "clique: 0.82374545494 - 1.03391555709\n",
      "0.720042338324\n",
      "\n",
      "Cliques not significantly supported\n"
     ]
    },
    {
     "data": {
      "image/png": "[encoded data removed]",
      "text/plain": [
       "<matplotlib.figure.Figure at 0x1106dfda0>"
      ]
     },
     "metadata": {},
     "output_type": "display_data"
    }
   ],
   "source": [
    "clique_checker(final_clusters.clusters[2], scores_data)"
   ]
  }
 ],
 "metadata": {
  "kernelspec": {
   "display_name": "Python 3",
   "language": "python",
   "name": "python3"
  },
  "language_info": {
   "codemirror_mode": {
    "name": "ipython",
    "version": 3
   },
   "file_extension": ".py",
   "mimetype": "text/x-python",
   "name": "python",
   "nbconvert_exporter": "python",
   "pygments_lexer": "ipython3",
   "version": "3.5.0"
  }
 },
 "nbformat": 4,
 "nbformat_minor": 0
}
